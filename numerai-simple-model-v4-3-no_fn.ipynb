{
 "cells": [
  {
   "cell_type": "markdown",
   "id": "37f27c76",
   "metadata": {
    "papermill": {
     "duration": 0.005426,
     "end_time": "2024-07-18T01:23:18.044848",
     "exception": false,
     "start_time": "2024-07-18T01:23:18.039422",
     "status": "completed"
    },
    "tags": []
   },
   "source": [
    "## Numerai model upload\n",
    "\n",
    "<!--\n",
    "\n",
    "Numerai model uploadを行ってみようと思います。\n",
    "\n",
    "参考： https://docs.google.com/document/d/1T75KrWbayOUSbLSkgSZEg7VGPrulK8ZkofheENTxABA/edit\n",
    "\n",
    "---\n",
    "\n",
    "### 処理の流れ\n",
    "\n",
    "以下のように比較的シンプルな形としています。\n",
    "\n",
    "1. データ\n",
    "     - v4.3のデータを使用\n",
    " \n",
    "2. 前処理\n",
    "     - 全特徴量だとメモリ不足するため、medium特徴量を利用（およそ700特徴量）\n",
    "     - 前処理は行わない\n",
    " \n",
    "3. 学習\n",
    "     - LightGBM\n",
    "         - ハイパーパラメーターは[Example script](https://github.com/numerai/example-scripts/blob/master/example_model_advanced.py)のものを基本的に利用\n",
    "         - K-Fold（k=3）で各CVごとにEarly stopping\n",
    "\n",
    "4. アンサンブル\n",
    "     - 上記の3-Foldのアンサンブルと、評価に使われていないtarget（jerome_60）を予測した際のモデルでアンサンブル\n",
    "         - [jerome60はCEOおすすめのtarget](https://zenn.dev/katsu1110/articles/60c777d15e01d5)\n",
    "\n",
    "5. 後処理\n",
    "     - 今回使用したmedium特徴量に対して[Feature Neutrization](https://qiita.com/NT1123/items/6c0123e960ab43148eb1)\n",
    "\n",
    "---\n",
    "\n",
    "-->\n",
    "\n",
    "<!--\n",
    "\n",
    "```py\n",
    "# 特徴量\n",
    "from collections import defaultdict\n",
    "dd = defaultdict(lambda: defaultdict(int))\n",
    "feature_sets = feature_metadata[\"feature_sets\"]\n",
    "for feature_set_name1 in feature_sets.keys():\n",
    "    for feature_set_name2 in feature_sets.keys():\n",
    "        counter = 0\n",
    "        feature_set2 = feature_sets[feature_set_name2]\n",
    "        for feature_name in feature_sets[feature_set_name1]:\n",
    "            if feature_name in feature_set2:\n",
    "                counter += 1\n",
    "        dd[feature_set_name1][feature_set_name2] = counter\n",
    "df_feature_includes = pd.DataFrame(dd)\n",
    "df_feature_includes.to_csv(\"feature_includes.csv\")\n",
    "```\n",
    "\n",
    "-->"
   ]
  },
  {
   "cell_type": "code",
   "execution_count": 1,
   "id": "21261b31",
   "metadata": {
    "execution": {
     "iopub.execute_input": "2024-07-18T01:23:18.056337Z",
     "iopub.status.busy": "2024-07-18T01:23:18.055993Z",
     "iopub.status.idle": "2024-07-18T01:23:35.815078Z",
     "shell.execute_reply": "2024-07-18T01:23:35.814138Z"
    },
    "papermill": {
     "duration": 17.767396,
     "end_time": "2024-07-18T01:23:35.817435",
     "exception": false,
     "start_time": "2024-07-18T01:23:18.050039",
     "status": "completed"
    },
    "tags": []
   },
   "outputs": [
    {
     "name": "stdout",
     "output_type": "stream",
     "text": [
      "Found existing installation: cloudpickle 2.2.1\r\n",
      "Uninstalling cloudpickle-2.2.1:\r\n",
      "  Successfully uninstalled cloudpickle-2.2.1\r\n",
      "Found existing installation: cloudpickle 3.0.0\r\n",
      "Uninstalling cloudpickle-3.0.0:\r\n",
      "  Successfully uninstalled cloudpickle-3.0.0\r\n",
      "\u001b[31mERROR: pip's dependency resolver does not currently take into account all the packages that are installed. This behaviour is the source of the following dependency conflicts.\r\n",
      "apache-beam 2.46.0 requires dill<0.3.2,>=0.3.1.1, but you have dill 0.3.8 which is incompatible.\r\n",
      "apache-beam 2.46.0 requires numpy<1.25.0,>=1.14.3, but you have numpy 1.26.4 which is incompatible.\r\n",
      "apache-beam 2.46.0 requires pyarrow<10.0.0,>=3.0.0, but you have pyarrow 16.1.0 which is incompatible.\r\n",
      "distributed 2024.5.1 requires dask==2024.5.1, but you have dask 2024.7.0 which is incompatible.\r\n",
      "rapids-dask-dependency 24.6.0a0 requires dask==2024.5.1, but you have dask 2024.7.0 which is incompatible.\u001b[0m\u001b[31m\r\n",
      "\u001b[0m"
     ]
    }
   ],
   "source": [
    "!pip uninstall -y cloudpickle\n",
    "!pip uninstall -y cloudpickle\n",
    "!pip install -Uqq numerapi lightgbm==4.0.0 cloudpickle==2.2.1"
   ]
  },
  {
   "cell_type": "code",
   "execution_count": 2,
   "id": "a784f750",
   "metadata": {
    "execution": {
     "iopub.execute_input": "2024-07-18T01:23:35.830203Z",
     "iopub.status.busy": "2024-07-18T01:23:35.829269Z",
     "iopub.status.idle": "2024-07-18T01:23:40.851315Z",
     "shell.execute_reply": "2024-07-18T01:23:40.850316Z"
    },
    "papermill": {
     "duration": 5.030763,
     "end_time": "2024-07-18T01:23:40.853660",
     "exception": false,
     "start_time": "2024-07-18T01:23:35.822897",
     "status": "completed"
    },
    "tags": []
   },
   "outputs": [],
   "source": [
    "import gc\n",
    "import os\n",
    "import glob\n",
    "import json\n",
    "import pickle\n",
    "import numerapi\n",
    "import cloudpickle\n",
    "import numpy as np\n",
    "import pandas as pd\n",
    "import lightgbm as lgb\n",
    "import scipy.stats as st\n",
    "import matplotlib.pylab as plt\n",
    "\n",
    "from tqdm.notebook import tqdm\n",
    "from contextlib import redirect_stderr\n",
    "from sklearn.model_selection import KFold"
   ]
  },
  {
   "cell_type": "code",
   "execution_count": 3,
   "id": "1f27d437",
   "metadata": {
    "execution": {
     "iopub.execute_input": "2024-07-18T01:23:40.866298Z",
     "iopub.status.busy": "2024-07-18T01:23:40.865646Z",
     "iopub.status.idle": "2024-07-18T01:26:31.802128Z",
     "shell.execute_reply": "2024-07-18T01:26:31.801177Z"
    },
    "papermill": {
     "duration": 170.945561,
     "end_time": "2024-07-18T01:26:31.804710",
     "exception": false,
     "start_time": "2024-07-18T01:23:40.859149",
     "status": "completed"
    },
    "tags": []
   },
   "outputs": [],
   "source": [
    "napi = numerapi.NumerAPI()\n",
    "# Notebook実行時に大量に出力がでてしまうため抑制\n",
    "with redirect_stderr(open(os.devnull, 'w')):\n",
    "    napi.download_dataset(\"v4.3/train_int8.parquet\", \"train.parquet\")\n",
    "    napi.download_dataset(\"v4.3/validation_int8.parquet\", \"valid.parquet\")\n",
    "    napi.download_dataset(\"v4.3/live_int8.parquet\", \"live.parquet\")\n",
    "    napi.download_dataset(\"v4.3/features.json\", \"features.json\")"
   ]
  },
  {
   "cell_type": "code",
   "execution_count": 4,
   "id": "a4d2da57",
   "metadata": {
    "execution": {
     "iopub.execute_input": "2024-07-18T01:26:31.816660Z",
     "iopub.status.busy": "2024-07-18T01:26:31.816361Z",
     "iopub.status.idle": "2024-07-18T01:26:31.822567Z",
     "shell.execute_reply": "2024-07-18T01:26:31.821734Z"
    },
    "papermill": {
     "duration": 0.014271,
     "end_time": "2024-07-18T01:26:31.824590",
     "exception": false,
     "start_time": "2024-07-18T01:26:31.810319",
     "status": "completed"
    },
    "tags": []
   },
   "outputs": [],
   "source": [
    "# 学習周りのconfigファイル\n",
    "debug = False\n",
    "seed_all = 0\n",
    "params = {\n",
    "    'n_estimators': 5000,\n",
    "    'boosting_type': 'gbdt',\n",
    "    'learning_rate': 0.01,\n",
    "    'num_leaves': 32,\n",
    "    'metric': 'rmse',\n",
    "    'colsample_bytree': 0.1,\n",
    "    'subsample': 0.8,\n",
    "    'seed': seed_all,\n",
    "    'force_row_wise': True,\n",
    "    'device': 'gpu'\n",
    "}\n",
    "\n",
    "# targetの候補は features.jsonのtargetsの中に記載\n",
    "# feature_setの候補は feature.jsonのfeature_setsに記載\n",
    "if debug:\n",
    "    targets = [\"target\"]\n",
    "    feature_set_name = \"small\"\n",
    "else:\n",
    "    targets = [\"target\"]\n",
    "    feature_set_name = \"medium\""
   ]
  },
  {
   "cell_type": "code",
   "execution_count": 5,
   "id": "c6a37eb5",
   "metadata": {
    "execution": {
     "iopub.execute_input": "2024-07-18T01:26:31.835764Z",
     "iopub.status.busy": "2024-07-18T01:26:31.835207Z",
     "iopub.status.idle": "2024-07-18T01:26:31.855541Z",
     "shell.execute_reply": "2024-07-18T01:26:31.854500Z"
    },
    "papermill": {
     "duration": 0.028388,
     "end_time": "2024-07-18T01:26:31.857961",
     "exception": false,
     "start_time": "2024-07-18T01:26:31.829573",
     "status": "completed"
    },
    "tags": []
   },
   "outputs": [
    {
     "name": "stdout",
     "output_type": "stream",
     "text": [
      "small 42\n",
      "medium 705\n",
      "all 2376\n",
      "v2_equivalent_features 304\n",
      "v3_equivalent_features 1000\n",
      "fncv3_features 400\n",
      "intelligence 35\n",
      "charisma 290\n",
      "strength 135\n",
      "dexterity 51\n",
      "constitution 335\n",
      "wisdom 140\n",
      "agility 145\n",
      "serenity 95\n",
      "sunshine 325\n",
      "rain 666\n",
      "midnight 244\n",
      "---\n",
      "feature set: medium, num of features: 705\n",
      "---\n"
     ]
    }
   ],
   "source": [
    "# 特徴量の選択\n",
    "feature_metadata = json.load(open(\"features.json\"))\n",
    "for k, v in feature_metadata[\"feature_sets\"].items():\n",
    "    print(k, len(v))\n",
    "\n",
    "feature_cols = feature_metadata[\"feature_sets\"][feature_set_name]\n",
    "print(\"---\")\n",
    "print(f\"feature set: {feature_set_name}, num of features: {len(feature_cols)}\")\n",
    "print(\"---\")"
   ]
  },
  {
   "cell_type": "code",
   "execution_count": 6,
   "id": "d2d8fd79",
   "metadata": {
    "execution": {
     "iopub.execute_input": "2024-07-18T01:26:31.869518Z",
     "iopub.status.busy": "2024-07-18T01:26:31.869018Z",
     "iopub.status.idle": "2024-07-18T01:26:38.468763Z",
     "shell.execute_reply": "2024-07-18T01:26:38.467678Z"
    },
    "papermill": {
     "duration": 6.607702,
     "end_time": "2024-07-18T01:26:38.470809",
     "exception": false,
     "start_time": "2024-07-18T01:26:31.863107",
     "status": "completed"
    },
    "tags": []
   },
   "outputs": [
    {
     "name": "stdout",
     "output_type": "stream",
     "text": [
      "(2420521, 707)\n"
     ]
    }
   ],
   "source": [
    "# データの読み込み\n",
    "train = pd.read_parquet(\"train.parquet\", columns=feature_cols+[\"era\"]+targets).dropna()\n",
    "if debug:\n",
    "    train = train.head(1000)\n",
    "print(train.shape)"
   ]
  },
  {
   "cell_type": "code",
   "execution_count": 7,
   "id": "a899e363",
   "metadata": {
    "execution": {
     "iopub.execute_input": "2024-07-18T01:26:38.483964Z",
     "iopub.status.busy": "2024-07-18T01:26:38.483231Z",
     "iopub.status.idle": "2024-07-18T01:26:38.821647Z",
     "shell.execute_reply": "2024-07-18T01:26:38.820592Z"
    },
    "papermill": {
     "duration": 0.347094,
     "end_time": "2024-07-18T01:26:38.823757",
     "exception": false,
     "start_time": "2024-07-18T01:26:38.476663",
     "status": "completed"
    },
    "tags": []
   },
   "outputs": [
    {
     "data": {
      "text/plain": [
       "era\n",
       "0001    2072\n",
       "0002    2260\n",
       "0003    2334\n",
       "0004    2399\n",
       "0005    2406\n",
       "        ... \n",
       "0570    4804\n",
       "0571    4811\n",
       "0572    4793\n",
       "0573    4793\n",
       "0574    4801\n",
       "Name: target, Length: 574, dtype: int64"
      ]
     },
     "execution_count": 7,
     "metadata": {},
     "output_type": "execute_result"
    }
   ],
   "source": [
    "train.groupby(\"era\")[\"target\"].count()"
   ]
  },
  {
   "cell_type": "code",
   "execution_count": 8,
   "id": "73a9772e",
   "metadata": {
    "execution": {
     "iopub.execute_input": "2024-07-18T01:26:38.836964Z",
     "iopub.status.busy": "2024-07-18T01:26:38.836639Z",
     "iopub.status.idle": "2024-07-18T01:36:50.760859Z",
     "shell.execute_reply": "2024-07-18T01:36:50.759857Z"
    },
    "papermill": {
     "duration": 611.933212,
     "end_time": "2024-07-18T01:36:50.763197",
     "exception": false,
     "start_time": "2024-07-18T01:26:38.829985",
     "status": "completed"
    },
    "tags": []
   },
   "outputs": [
    {
     "name": "stdout",
     "output_type": "stream",
     "text": [
      "-----\n",
      "Target: target, fold: 1\n",
      "[LightGBM] [Info] This is the GPU trainer!!\n",
      "[LightGBM] [Info] Total Bins 3525\n",
      "[LightGBM] [Info] Number of data points in the train set: 1613680, number of used features: 705\n",
      "[LightGBM] [Info] Using GPU Device: Tesla P100-PCIE-16GB, Vendor: NVIDIA Corporation\n",
      "[LightGBM] [Info] Compiling OpenCL Kernel with 16 bins...\n"
     ]
    },
    {
     "name": "stderr",
     "output_type": "stream",
     "text": [
      "1 warning generated.\n",
      "1 warning generated.\n",
      "1 warning generated.\n",
      "1 warning generated.\n",
      "1 warning generated.\n",
      "1 warning generated.\n",
      "1 warning generated.\n",
      "1 warning generated.\n",
      "1 warning generated.\n",
      "1 warning generated.\n",
      "1 warning generated.\n",
      "1 warning generated.\n",
      "1 warning generated.\n",
      "1 warning generated.\n",
      "1 warning generated.\n",
      "1 warning generated.\n",
      "1 warning generated.\n",
      "1 warning generated.\n",
      "1 warning generated.\n",
      "1 warning generated.\n",
      "1 warning generated.\n",
      "1 warning generated.\n",
      "1 warning generated.\n",
      "1 warning generated.\n",
      "1 warning generated.\n",
      "1 warning generated.\n",
      "1 warning generated.\n",
      "1 warning generated.\n",
      "1 warning generated.\n",
      "1 warning generated.\n",
      "1 warning generated.\n",
      "1 warning generated.\n",
      "1 warning generated.\n"
     ]
    },
    {
     "name": "stdout",
     "output_type": "stream",
     "text": [
      "[LightGBM] [Info] GPU programs have been built\n",
      "[LightGBM] [Info] Size of histogram bin entry: 8\n",
      "[LightGBM] [Info] 705 dense feature groups (547.86 MB) transferred to GPU in 0.963302 secs. 0 sparse feature groups\n",
      "[LightGBM] [Info] Start training from score 0.500004\n",
      "Training until validation scores don't improve for 100 rounds\n",
      "Early stopping, best iteration is:\n",
      "[3043]\tvalid_0's rmse: 0.222795\n",
      "-----\n",
      "Target: target, fold: 2\n",
      "[LightGBM] [Info] This is the GPU trainer!!\n",
      "[LightGBM] [Info] Total Bins 3525\n",
      "[LightGBM] [Info] Number of data points in the train set: 1613681, number of used features: 705\n",
      "[LightGBM] [Info] Using GPU Device: Tesla P100-PCIE-16GB, Vendor: NVIDIA Corporation\n",
      "[LightGBM] [Info] Compiling OpenCL Kernel with 16 bins...\n",
      "[LightGBM] [Info] GPU programs have been built\n",
      "[LightGBM] [Info] Size of histogram bin entry: 8\n",
      "[LightGBM] [Info] 705 dense feature groups (547.86 MB) transferred to GPU in 0.965140 secs. 0 sparse feature groups\n",
      "[LightGBM] [Info] Start training from score 0.500018\n",
      "Training until validation scores don't improve for 100 rounds\n",
      "Early stopping, best iteration is:\n",
      "[1504]\tvalid_0's rmse: 0.222908\n",
      "-----\n",
      "Target: target, fold: 3\n",
      "[LightGBM] [Info] This is the GPU trainer!!\n",
      "[LightGBM] [Info] Total Bins 3525\n",
      "[LightGBM] [Info] Number of data points in the train set: 1613681, number of used features: 705\n",
      "[LightGBM] [Info] Using GPU Device: Tesla P100-PCIE-16GB, Vendor: NVIDIA Corporation\n",
      "[LightGBM] [Info] Compiling OpenCL Kernel with 16 bins...\n",
      "[LightGBM] [Info] GPU programs have been built\n",
      "[LightGBM] [Info] Size of histogram bin entry: 8\n",
      "[LightGBM] [Info] 705 dense feature groups (547.86 MB) transferred to GPU in 1.024150 secs. 0 sparse feature groups\n",
      "[LightGBM] [Info] Start training from score 0.500022\n",
      "Training until validation scores don't improve for 100 rounds\n",
      "Early stopping, best iteration is:\n",
      "[1213]\tvalid_0's rmse: 0.222829\n"
     ]
    }
   ],
   "source": [
    "# 学習\n",
    "cv = KFold(n_splits=3)\n",
    "models = []\n",
    "for target_idx, target in enumerate(targets, start=1):\n",
    "    for fold, (trn_idx, val_idx) in enumerate(cv.split(train), start=1):\n",
    "        trn_x = train.iloc[trn_idx, :][feature_cols].values\n",
    "        trn_y = train.iloc[trn_idx, :][target].values\n",
    "        val_x = train.iloc[val_idx, :][feature_cols].values\n",
    "        val_y = train.iloc[val_idx, :][target].values\n",
    "\n",
    "        print(\"-----\")\n",
    "        print(f\"Target: {target}, fold: {fold}\")\n",
    "\n",
    "        model = lgb.LGBMRegressor(**params)\n",
    "        model.fit(\n",
    "            trn_x, trn_y,\n",
    "            eval_set=[(val_x, val_y)],\n",
    "            callbacks=[lgb.early_stopping(stopping_rounds=100, verbose=True)],\n",
    "        )\n",
    "        models.append(model)\n",
    "\n",
    "        model.booster_.save_model(f\"model.lgb.fold_{fold}.{target}.seed_{seed_all}.txt\")\n",
    "        pickle.dump(model, open(f\"model.lgb.fold_{fold}.{target}.seed_{seed_all}.pkl\", 'wb'))\n",
    "        del trn_x, trn_y, val_x, val_y; gc.collect()\n"
   ]
  },
  {
   "cell_type": "code",
   "execution_count": 9,
   "id": "3dcbfe34",
   "metadata": {
    "execution": {
     "iopub.execute_input": "2024-07-18T01:36:50.780649Z",
     "iopub.status.busy": "2024-07-18T01:36:50.780350Z",
     "iopub.status.idle": "2024-07-18T01:36:50.977182Z",
     "shell.execute_reply": "2024-07-18T01:36:50.976303Z"
    },
    "papermill": {
     "duration": 0.20764,
     "end_time": "2024-07-18T01:36:50.979129",
     "exception": false,
     "start_time": "2024-07-18T01:36:50.771489",
     "status": "completed"
    },
    "tags": []
   },
   "outputs": [
    {
     "data": {
      "text/plain": [
       "0"
      ]
     },
     "execution_count": 9,
     "metadata": {},
     "output_type": "execute_result"
    }
   ],
   "source": [
    "del train; gc.collect()"
   ]
  },
  {
   "cell_type": "code",
   "execution_count": 10,
   "id": "540fd630",
   "metadata": {
    "execution": {
     "iopub.execute_input": "2024-07-18T01:36:50.997183Z",
     "iopub.status.busy": "2024-07-18T01:36:50.996617Z",
     "iopub.status.idle": "2024-07-18T01:36:51.007165Z",
     "shell.execute_reply": "2024-07-18T01:36:51.006314Z"
    },
    "papermill": {
     "duration": 0.021309,
     "end_time": "2024-07-18T01:36:51.009044",
     "exception": false,
     "start_time": "2024-07-18T01:36:50.987735",
     "status": "completed"
    },
    "tags": []
   },
   "outputs": [],
   "source": [
    "def predict(live_features: pd.DataFrame) -> pd.DataFrame:\n",
    "    def neutralize(df, columns, neutralizers=[], proportion=1.0, normalize=True, era_col=\"era\"):\n",
    "        unique_eras = df[era_col].unique()\n",
    "        computed = []\n",
    "        for u in unique_eras:\n",
    "            df_era = df[df[era_col] == u]\n",
    "            scores = df_era[columns].values\n",
    "            if normalize:\n",
    "                scores2 = []\n",
    "                for x in scores.T:\n",
    "                    x = (st.rankdata(x, method='ordinal') - .5) / len(x)\n",
    "                    x = st.norm.ppf(x)\n",
    "                    scores2.append(x)\n",
    "                scores = np.array(scores2).T\n",
    "            exposures = df_era[neutralizers].values\n",
    "\n",
    "            scores -= proportion * exposures.dot(\n",
    "                np.linalg.pinv(exposures.astype(np.float32)).dot(scores.astype(np.float32)))\n",
    "            scores /= scores.std(ddof=0)\n",
    "            computed.append(scores)\n",
    "        return pd.DataFrame(np.concatenate(computed),\n",
    "                            columns=columns,\n",
    "                            index=df.index)\n",
    "    \n",
    "    # main:    \n",
    "    preds_live = np.zeros(len(live_features))\n",
    "    for model in models:\n",
    "        preds_live += model.predict(live_features[feature_cols]) / len(models)\n",
    "    live_features[\"prediction\"] = preds_live\n",
    "    return live_features[[\"era\", \"prediction\"]]\n",
    "    \n",
    "    # Feature Neutralization\n",
    "    # Ref: https://qiita.com/NT1123/items/6c0123e960ab43148eb1\n",
    "    live_predictions = neutralize(\n",
    "        live_features,\n",
    "        columns=[\"prediction\"], \n",
    "        neutralizers=feature_cols, \n",
    "        proportion=1.0,\n",
    "        normalize=True,\n",
    "        era_col='era'\n",
    "    ).rank(pct=True, method=\"first\")\n",
    "    return live_predictions"
   ]
  },
  {
   "cell_type": "code",
   "execution_count": 11,
   "id": "b932ac31",
   "metadata": {
    "execution": {
     "iopub.execute_input": "2024-07-18T01:36:51.026381Z",
     "iopub.status.busy": "2024-07-18T01:36:51.026112Z",
     "iopub.status.idle": "2024-07-18T01:36:52.175184Z",
     "shell.execute_reply": "2024-07-18T01:36:52.174356Z"
    },
    "papermill": {
     "duration": 1.160255,
     "end_time": "2024-07-18T01:36:52.177378",
     "exception": false,
     "start_time": "2024-07-18T01:36:51.017123",
     "status": "completed"
    },
    "tags": []
   },
   "outputs": [],
   "source": [
    "models = []\n",
    "for path in glob.glob(f\"model.*.txt\"):\n",
    "    models.append(lgb.Booster(model_file=path))\n",
    "\n",
    "# Live dataでテストを行う\n",
    "live = pd.read_parquet(\"live.parquet\")\n",
    "live_sub = predict(live)"
   ]
  },
  {
   "cell_type": "code",
   "execution_count": 12,
   "id": "6923c6ae",
   "metadata": {
    "execution": {
     "iopub.execute_input": "2024-07-18T01:36:52.196284Z",
     "iopub.status.busy": "2024-07-18T01:36:52.195977Z",
     "iopub.status.idle": "2024-07-18T01:36:52.771794Z",
     "shell.execute_reply": "2024-07-18T01:36:52.771007Z"
    },
    "papermill": {
     "duration": 0.587019,
     "end_time": "2024-07-18T01:36:52.774040",
     "exception": false,
     "start_time": "2024-07-18T01:36:52.187021",
     "status": "completed"
    },
    "tags": []
   },
   "outputs": [],
   "source": [
    "# 予測する関数をpredict.pklとして保存（このファイルをNumeraiに提出してください）\n",
    "p = cloudpickle.dumps(predict)\n",
    "with open(\"predict.pkl\", \"wb\") as f:\n",
    "    f.write(p)"
   ]
  },
  {
   "cell_type": "code",
   "execution_count": 13,
   "id": "1c1d0671",
   "metadata": {
    "execution": {
     "iopub.execute_input": "2024-07-18T01:36:52.791838Z",
     "iopub.status.busy": "2024-07-18T01:36:52.791533Z",
     "iopub.status.idle": "2024-07-18T01:46:30.637415Z",
     "shell.execute_reply": "2024-07-18T01:46:30.636452Z"
    },
    "papermill": {
     "duration": 577.857298,
     "end_time": "2024-07-18T01:46:30.639796",
     "exception": false,
     "start_time": "2024-07-18T01:36:52.782498",
     "status": "completed"
    },
    "tags": []
   },
   "outputs": [
    {
     "name": "stderr",
     "output_type": "stream",
     "text": [
      "/tmp/ipykernel_25/3153293509.py:4: SettingWithCopyWarning: \n",
      "A value is trying to be set on a copy of a slice from a DataFrame.\n",
      "Try using .loc[row_indexer,col_indexer] = value instead\n",
      "\n",
      "See the caveats in the documentation: https://pandas.pydata.org/pandas-docs/stable/user_guide/indexing.html#returning-a-view-versus-a-copy\n",
      "  valid_sub[\"era\"] = valid[\"era\"]\n",
      "/tmp/ipykernel_25/3153293509.py:5: SettingWithCopyWarning: \n",
      "A value is trying to be set on a copy of a slice from a DataFrame.\n",
      "Try using .loc[row_indexer,col_indexer] = value instead\n",
      "\n",
      "See the caveats in the documentation: https://pandas.pydata.org/pandas-docs/stable/user_guide/indexing.html#returning-a-view-versus-a-copy\n",
      "  valid_sub[\"target\"] = valid[\"target\"]\n"
     ]
    },
    {
     "data": {
      "application/vnd.jupyter.widget-view+json": {
       "model_id": "9eabcf3fefcc478a81d670e987c3138d",
       "version_major": 2,
       "version_minor": 0
      },
      "text/plain": [
       "  0%|          | 0/545 [00:00<?, ?it/s]"
      ]
     },
     "metadata": {},
     "output_type": "display_data"
    },
    {
     "name": "stdout",
     "output_type": "stream",
     "text": [
      "Mean: 0.0223, Sharpe: 0.8976\n"
     ]
    }
   ],
   "source": [
    "valid = pd.read_parquet(\"valid.parquet\", columns=feature_cols+[\"era\"]+targets).dropna()\n",
    "valid_sub = predict(valid)\n",
    "\n",
    "valid_sub[\"era\"] = valid[\"era\"]\n",
    "valid_sub[\"target\"] = valid[\"target\"]\n",
    "del valid; gc.collect()\n",
    "\n",
    "spr_list = []\n",
    "for era in tqdm(sorted(valid_sub[\"era\"].unique())):\n",
    "    valid_sub_ext = valid_sub.query(\"era == @era\")\n",
    "    spr = st.spearmanr(valid_sub_ext[\"prediction\"], valid_sub_ext[\"target\"])[0]\n",
    "    spr_list.append(spr)\n",
    "\n",
    "mean = np.mean(spr_list)\n",
    "sharpe_ratio = np.mean(spr_list) / np.std(spr_list)\n",
    "print(f\"Mean: {round(mean, 4)}, Sharpe: {round(sharpe_ratio, 4)}\")"
   ]
  },
  {
   "cell_type": "code",
   "execution_count": 14,
   "id": "9994d3e2",
   "metadata": {
    "execution": {
     "iopub.execute_input": "2024-07-18T01:46:30.658988Z",
     "iopub.status.busy": "2024-07-18T01:46:30.658603Z",
     "iopub.status.idle": "2024-07-18T01:46:34.260017Z",
     "shell.execute_reply": "2024-07-18T01:46:34.259077Z"
    },
    "papermill": {
     "duration": 3.613414,
     "end_time": "2024-07-18T01:46:34.262088",
     "exception": false,
     "start_time": "2024-07-18T01:46:30.648674",
     "status": "completed"
    },
    "tags": []
   },
   "outputs": [
    {
     "name": "stdout",
     "output_type": "stream",
     "text": [
      "Mean: 0.0223, Sharpe: 0.8976\n"
     ]
    },
    {
     "data": {
      "text/plain": [
       "[<matplotlib.lines.Line2D at 0x79eb4b0c37f0>]"
      ]
     },
     "execution_count": 14,
     "metadata": {},
     "output_type": "execute_result"
    },
    {
     "data": {
      "image/png": "[encoded data removed]",
      "text/plain": [
       "<Figure size 640x480 with 1 Axes>"
      ]
     },
     "metadata": {},
     "output_type": "display_data"
    }
   ],
   "source": [
    "print(f\"Mean: {round(mean, 4)}, Sharpe: {round(sharpe_ratio, 4)}\")\n",
    "plt.plot(sorted(valid_sub[\"era\"].unique()), spr_list)"
   ]
  },
  {
   "cell_type": "code",
   "execution_count": 15,
   "id": "ab7da0b5",
   "metadata": {
    "execution": {
     "iopub.execute_input": "2024-07-18T01:46:34.282938Z",
     "iopub.status.busy": "2024-07-18T01:46:34.282399Z",
     "iopub.status.idle": "2024-07-18T01:46:35.703073Z",
     "shell.execute_reply": "2024-07-18T01:46:35.701739Z"
    },
    "papermill": {
     "duration": 1.433476,
     "end_time": "2024-07-18T01:46:35.705651",
     "exception": false,
     "start_time": "2024-07-18T01:46:34.272175",
     "status": "completed"
    },
    "tags": []
   },
   "outputs": [],
   "source": [
    "!rm *.parquet"
   ]
  }
 ],
 "metadata": {
  "kaggle": {
   "accelerator": "gpu",
   "dataSources": [],
   "isGpuEnabled": true,
   "isInternetEnabled": true,
   "language": "python",
   "sourceType": "notebook"
  },
  "kernelspec": {
   "display_name": "Python 3",
   "language": "python",
   "name": "python3"
  },
  "language_info": {
   "codemirror_mode": {
    "name": "ipython",
    "version": 3
   },
   "file_extension": ".py",
   "mimetype": "text/x-python",
   "name": "python",
   "nbconvert_exporter": "python",
   "pygments_lexer": "ipython3",
   "version": "3.10.13"
  },
  "papermill": {
   "default_parameters": {},
   "duration": 1402.835785,
   "end_time": "2024-07-18T01:46:38.131544",
   "environment_variables": {},
   "exception": null,
   "input_path": "__notebook__.ipynb",
   "output_path": "__notebook__.ipynb",
   "parameters": {},
   "start_time": "2024-07-18T01:23:15.295759",
   "version": "2.5.0"
  },
  "widgets": {
   "application/vnd.jupyter.widget-state+json": {
    "state": {
     "2dbabbe28ea845be86d6694077f5698f": {
      "model_module": "@jupyter-widgets/controls",
      "model_module_version": "1.5.0",
      "model_name": "ProgressStyleModel",
      "state": {
       "_model_module": "@jupyter-widgets/controls",
       "_model_module_version": "1.5.0",
       "_model_name": "ProgressStyleModel",
       "_view_count": null,
       "_view_module": "@jupyter-widgets/base",
       "_view_module_version": "1.2.0",
       "_view_name": "StyleView",
       "bar_color": null,
       "description_width": ""
      }
     },
     "63da6ad562dc4718b5ab17d0a3200457": {
      "model_module": "@jupyter-widgets/controls",
      "model_module_version": "1.5.0",
      "model_name": "DescriptionStyleModel",
      "state": {
       "_model_module": "@jupyter-widgets/controls",
       "_model_module_version": "1.5.0",
       "_model_name": "DescriptionStyleModel",
       "_view_count": null,
       "_view_module": "@jupyter-widgets/base",
       "_view_module_version": "1.2.0",
       "_view_name": "StyleView",
       "description_width": ""
      }
     },
     "640b4415565746a0a257a2051a2b86b0": {
      "model_module": "@jupyter-widgets/base",
      "model_module_version": "1.2.0",
      "model_name": "LayoutModel",
      "state": {
       "_model_module": "@jupyter-widgets/base",
       "_model_module_version": "1.2.0",
       "_model_name": "LayoutModel",
       "_view_count": null,
       "_view_module": "@jupyter-widgets/base",
       "_view_module_version": "1.2.0",
       "_view_name": "LayoutView",
       "align_content": null,
       "align_items": null,
       "align_self": null,
       "border": null,
       "bottom": null,
       "display": null,
       "flex": null,
       "flex_flow": null,
       "grid_area": null,
       "grid_auto_columns": null,
       "grid_auto_flow": null,
       "grid_auto_rows": null,
       "grid_column": null,
       "grid_gap": null,
       "grid_row": null,
       "grid_template_areas": null,
       "grid_template_columns": null,
       "grid_template_rows": null,
       "height": null,
       "justify_content": null,
       "justify_items": null,
       "left": null,
       "margin": null,
       "max_height": null,
       "max_width": null,
       "min_height": null,
       "min_width": null,
       "object_fit": null,
       "object_position": null,
       "order": null,
       "overflow": null,
       "overflow_x": null,
       "overflow_y": null,
       "padding": null,
       "right": null,
       "top": null,
       "visibility": null,
       "width": null
      }
     },
     "684809e83d2e4aa98af417fe3f707de0": {
      "model_module": "@jupyter-widgets/controls",
      "model_module_version": "1.5.0",
      "model_name": "HTMLModel",
      "state": {
       "_dom_classes": [],
       "_model_module": "@jupyter-widgets/controls",
       "_model_module_version": "1.5.0",
       "_model_name": "HTMLModel",
       "_view_count": null,
       "_view_module": "@jupyter-widgets/controls",
       "_view_module_version": "1.5.0",
       "_view_name": "HTMLView",
       "description": "",
       "description_tooltip": null,
       "layout": "IPY_MODEL_f1cbf86543124abfb9adb70cdf606e1c",
       "placeholder": "​",
       "style": "IPY_MODEL_d69a4e0202034d9893ff7bfe1219862c",
       "value": "100%"
      }
     },
     "754efa3e4df94dccb0376f41b193d9f8": {
      "model_module": "@jupyter-widgets/controls",
      "model_module_version": "1.5.0",
      "model_name": "HTMLModel",
      "state": {
       "_dom_classes": [],
       "_model_module": "@jupyter-widgets/controls",
       "_model_module_version": "1.5.0",
       "_model_name": "HTMLModel",
       "_view_count": null,
       "_view_module": "@jupyter-widgets/controls",
       "_view_module_version": "1.5.0",
       "_view_name": "HTMLView",
       "description": "",
       "description_tooltip": null,
       "layout": "IPY_MODEL_8a25635e7d4b420fbde8a333915db0bf",
       "placeholder": "​",
       "style": "IPY_MODEL_63da6ad562dc4718b5ab17d0a3200457",
       "value": " 545/545 [01:43&lt;00:00,  5.33it/s]"
      }
     },
     "759f4cb59c5d4e53af291e00770d1c9c": {
      "model_module": "@jupyter-widgets/base",
      "model_module_version": "1.2.0",
      "model_name": "LayoutModel",
      "state": {
       "_model_module": "@jupyter-widgets/base",
       "_model_module_version": "1.2.0",
       "_model_name": "LayoutModel",
       "_view_count": null,
       "_view_module": "@jupyter-widgets/base",
       "_view_module_version": "1.2.0",
       "_view_name": "LayoutView",
       "align_content": null,
       "align_items": null,
       "align_self": null,
       "border": null,
       "bottom": null,
       "display": null,
       "flex": null,
       "flex_flow": null,
       "grid_area": null,
       "grid_auto_columns": null,
       "grid_auto_flow": null,
       "grid_auto_rows": null,
       "grid_column": null,
       "grid_gap": null,
       "grid_row": null,
       "grid_template_areas": null,
       "grid_template_columns": null,
       "grid_template_rows": null,
       "height": null,
       "justify_content": null,
       "justify_items": null,
       "left": null,
       "margin": null,
       "max_height": null,
       "max_width": null,
       "min_height": null,
       "min_width": null,
       "object_fit": null,
       "object_position": null,
       "order": null,
       "overflow": null,
       "overflow_x": null,
       "overflow_y": null,
       "padding": null,
       "right": null,
       "top": null,
       "visibility": null,
       "width": null
      }
     },
     "8a25635e7d4b420fbde8a333915db0bf": {
      "model_module": "@jupyter-widgets/base",
      "model_module_version": "1.2.0",
      "model_name": "LayoutModel",
      "state": {
       "_model_module": "@jupyter-widgets/base",
       "_model_module_version": "1.2.0",
       "_model_name": "LayoutModel",
       "_view_count": null,
       "_view_module": "@jupyter-widgets/base",
       "_view_module_version": "1.2.0",
       "_view_name": "LayoutView",
       "align_content": null,
       "align_items": null,
       "align_self": null,
       "border": null,
       "bottom": null,
       "display": null,
       "flex": null,
       "flex_flow": null,
       "grid_area": null,
       "grid_auto_columns": null,
       "grid_auto_flow": null,
       "grid_auto_rows": null,
       "grid_column": null,
       "grid_gap": null,
       "grid_row": null,
       "grid_template_areas": null,
       "grid_template_columns": null,
       "grid_template_rows": null,
       "height": null,
       "justify_content": null,
       "justify_items": null,
       "left": null,
       "margin": null,
       "max_height": null,
       "max_width": null,
       "min_height": null,
       "min_width": null,
       "object_fit": null,
       "object_position": null,
       "order": null,
       "overflow": null,
       "overflow_x": null,
       "overflow_y": null,
       "padding": null,
       "right": null,
       "top": null,
       "visibility": null,
       "width": null
      }
     },
     "975f5ec04a6746938e642340e4a3de07": {
      "model_module": "@jupyter-widgets/controls",
      "model_module_version": "1.5.0",
      "model_name": "FloatProgressModel",
      "state": {
       "_dom_classes": [],
       "_model_module": "@jupyter-widgets/controls",
       "_model_module_version": "1.5.0",
       "_model_name": "FloatProgressModel",
       "_view_count": null,
       "_view_module": "@jupyter-widgets/controls",
       "_view_module_version": "1.5.0",
       "_view_name": "ProgressView",
       "bar_style": "success",
       "description": "",
       "description_tooltip": null,
       "layout": "IPY_MODEL_759f4cb59c5d4e53af291e00770d1c9c",
       "max": 545.0,
       "min": 0.0,
       "orientation": "horizontal",
       "style": "IPY_MODEL_2dbabbe28ea845be86d6694077f5698f",
       "value": 545.0
      }
     },
     "9eabcf3fefcc478a81d670e987c3138d": {
      "model_module": "@jupyter-widgets/controls",
      "model_module_version": "1.5.0",
      "model_name": "HBoxModel",
      "state": {
       "_dom_classes": [],
       "_model_module": "@jupyter-widgets/controls",
       "_model_module_version": "1.5.0",
       "_model_name": "HBoxModel",
       "_view_count": null,
       "_view_module": "@jupyter-widgets/controls",
       "_view_module_version": "1.5.0",
       "_view_name": "HBoxView",
       "box_style": "",
       "children": [
        "IPY_MODEL_684809e83d2e4aa98af417fe3f707de0",
        "IPY_MODEL_975f5ec04a6746938e642340e4a3de07",
        "IPY_MODEL_754efa3e4df94dccb0376f41b193d9f8"
       ],
       "layout": "IPY_MODEL_640b4415565746a0a257a2051a2b86b0"
      }
     },
     "d69a4e0202034d9893ff7bfe1219862c": {
      "model_module": "@jupyter-widgets/controls",
      "model_module_version": "1.5.0",
      "model_name": "DescriptionStyleModel",
      "state": {
       "_model_module": "@jupyter-widgets/controls",
       "_model_module_version": "1.5.0",
       "_model_name": "DescriptionStyleModel",
       "_view_count": null,
       "_view_module": "@jupyter-widgets/base",
       "_view_module_version": "1.2.0",
       "_view_name": "StyleView",
       "description_width": ""
      }
     },
     "f1cbf86543124abfb9adb70cdf606e1c": {
      "model_module": "@jupyter-widgets/base",
      "model_module_version": "1.2.0",
      "model_name": "LayoutModel",
      "state": {
       "_model_module": "@jupyter-widgets/base",
       "_model_module_version": "1.2.0",
       "_model_name": "LayoutModel",
       "_view_count": null,
       "_view_module": "@jupyter-widgets/base",
       "_view_module_version": "1.2.0",
       "_view_name": "LayoutView",
       "align_content": null,
       "align_items": null,
       "align_self": null,
       "border": null,
       "bottom": null,
       "display": null,
       "flex": null,
       "flex_flow": null,
       "grid_area": null,
       "grid_auto_columns": null,
       "grid_auto_flow": null,
       "grid_auto_rows": null,
       "grid_column": null,
       "grid_gap": null,
       "grid_row": null,
       "grid_template_areas": null,
       "grid_template_columns": null,
       "grid_template_rows": null,
       "height": null,
       "justify_content": null,
       "justify_items": null,
       "left": null,
       "margin": null,
       "max_height": null,
       "max_width": null,
       "min_height": null,
       "min_width": null,
       "object_fit": null,
       "object_position": null,
       "order": null,
       "overflow": null,
       "overflow_x": null,
       "overflow_y": null,
       "padding": null,
       "right": null,
       "top": null,
       "visibility": null,
       "width": null
      }
     }
    },
    "version_major": 2,
    "version_minor": 0
   }
  }
 },
 "nbformat": 4,
 "nbformat_minor": 5
}
