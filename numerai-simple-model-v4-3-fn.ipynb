{
 "cells": [
  {
   "cell_type": "markdown",
   "id": "305507de",
   "metadata": {
    "papermill": {
     "duration": 0.005217,
     "end_time": "2024-07-17T17:20:00.649956",
     "exception": false,
     "start_time": "2024-07-17T17:20:00.644739",
     "status": "completed"
    },
    "tags": []
   },
   "source": [
    "## Numerai model upload\n",
    "\n",
    "<!--\n",
    "\n",
    "Numerai model uploadを行ってみようと思います。\n",
    "\n",
    "参考： https://docs.google.com/document/d/1T75KrWbayOUSbLSkgSZEg7VGPrulK8ZkofheENTxABA/edit\n",
    "\n",
    "---\n",
    "\n",
    "### 処理の流れ\n",
    "\n",
    "以下のように比較的シンプルな形としています。\n",
    "\n",
    "1. データ\n",
    "     - v4.3のデータを使用\n",
    " \n",
    "2. 前処理\n",
    "     - 全特徴量だとメモリ不足するため、medium特徴量を利用（およそ700特徴量）\n",
    "     - 前処理は行わない\n",
    " \n",
    "3. 学習\n",
    "     - LightGBM\n",
    "         - ハイパーパラメーターは[Example script](https://github.com/numerai/example-scripts/blob/master/example_model_advanced.py)のものを基本的に利用\n",
    "         - K-Fold（k=3）で各CVごとにEarly stopping\n",
    "\n",
    "4. アンサンブル\n",
    "     - 上記の3-Foldのアンサンブルと、評価に使われていないtarget（jerome_60）を予測した際のモデルでアンサンブル\n",
    "         - [jerome60はCEOおすすめのtarget](https://zenn.dev/katsu1110/articles/60c777d15e01d5)\n",
    "\n",
    "5. 後処理\n",
    "     - 今回使用したmedium特徴量に対して[Feature Neutrization](https://qiita.com/NT1123/items/6c0123e960ab43148eb1)\n",
    "\n",
    "---\n",
    "\n",
    "-->\n",
    "\n",
    "<!--\n",
    "\n",
    "```py\n",
    "# 特徴量\n",
    "from collections import defaultdict\n",
    "dd = defaultdict(lambda: defaultdict(int))\n",
    "feature_sets = feature_metadata[\"feature_sets\"]\n",
    "for feature_set_name1 in feature_sets.keys():\n",
    "    for feature_set_name2 in feature_sets.keys():\n",
    "        counter = 0\n",
    "        feature_set2 = feature_sets[feature_set_name2]\n",
    "        for feature_name in feature_sets[feature_set_name1]:\n",
    "            if feature_name in feature_set2:\n",
    "                counter += 1\n",
    "        dd[feature_set_name1][feature_set_name2] = counter\n",
    "df_feature_includes = pd.DataFrame(dd)\n",
    "df_feature_includes.to_csv(\"feature_includes.csv\")\n",
    "```\n",
    "\n",
    "-->"
   ]
  },
  {
   "cell_type": "code",
   "execution_count": 1,
   "id": "2c570e81",
   "metadata": {
    "execution": {
     "iopub.execute_input": "2024-07-17T17:20:00.660723Z",
     "iopub.status.busy": "2024-07-17T17:20:00.660447Z",
     "iopub.status.idle": "2024-07-17T17:20:18.232838Z",
     "shell.execute_reply": "2024-07-17T17:20:18.231900Z"
    },
    "papermill": {
     "duration": 17.580316,
     "end_time": "2024-07-17T17:20:18.235230",
     "exception": false,
     "start_time": "2024-07-17T17:20:00.654914",
     "status": "completed"
    },
    "tags": []
   },
   "outputs": [
    {
     "name": "stdout",
     "output_type": "stream",
     "text": [
      "Found existing installation: cloudpickle 2.2.1\r\n",
      "Uninstalling cloudpickle-2.2.1:\r\n",
      "  Successfully uninstalled cloudpickle-2.2.1\r\n",
      "Found existing installation: cloudpickle 3.0.0\r\n",
      "Uninstalling cloudpickle-3.0.0:\r\n",
      "  Successfully uninstalled cloudpickle-3.0.0\r\n",
      "\u001b[31mERROR: pip's dependency resolver does not currently take into account all the packages that are installed. This behaviour is the source of the following dependency conflicts.\r\n",
      "apache-beam 2.46.0 requires dill<0.3.2,>=0.3.1.1, but you have dill 0.3.8 which is incompatible.\r\n",
      "apache-beam 2.46.0 requires numpy<1.25.0,>=1.14.3, but you have numpy 1.26.4 which is incompatible.\r\n",
      "apache-beam 2.46.0 requires pyarrow<10.0.0,>=3.0.0, but you have pyarrow 16.1.0 which is incompatible.\r\n",
      "distributed 2024.5.1 requires dask==2024.5.1, but you have dask 2024.7.0 which is incompatible.\r\n",
      "rapids-dask-dependency 24.6.0a0 requires dask==2024.5.1, but you have dask 2024.7.0 which is incompatible.\u001b[0m\u001b[31m\r\n",
      "\u001b[0m"
     ]
    }
   ],
   "source": [
    "!pip uninstall -y cloudpickle\n",
    "!pip uninstall -y cloudpickle\n",
    "!pip install -Uqq numerapi lightgbm==4.0.0 cloudpickle==2.2.1"
   ]
  },
  {
   "cell_type": "code",
   "execution_count": 2,
   "id": "fa79fbe5",
   "metadata": {
    "execution": {
     "iopub.execute_input": "2024-07-17T17:20:18.247546Z",
     "iopub.status.busy": "2024-07-17T17:20:18.246978Z",
     "iopub.status.idle": "2024-07-17T17:20:23.205026Z",
     "shell.execute_reply": "2024-07-17T17:20:23.204248Z"
    },
    "papermill": {
     "duration": 4.966851,
     "end_time": "2024-07-17T17:20:23.207379",
     "exception": false,
     "start_time": "2024-07-17T17:20:18.240528",
     "status": "completed"
    },
    "tags": []
   },
   "outputs": [],
   "source": [
    "import gc\n",
    "import os\n",
    "import glob\n",
    "import json\n",
    "import pickle\n",
    "import numerapi\n",
    "import cloudpickle\n",
    "import numpy as np\n",
    "import pandas as pd\n",
    "import lightgbm as lgb\n",
    "import scipy.stats as st\n",
    "import matplotlib.pylab as plt\n",
    "\n",
    "from tqdm.notebook import tqdm\n",
    "from contextlib import redirect_stderr\n",
    "from sklearn.model_selection import KFold"
   ]
  },
  {
   "cell_type": "code",
   "execution_count": 3,
   "id": "1bf7fa39",
   "metadata": {
    "execution": {
     "iopub.execute_input": "2024-07-17T17:20:23.219393Z",
     "iopub.status.busy": "2024-07-17T17:20:23.218563Z",
     "iopub.status.idle": "2024-07-17T17:23:21.976570Z",
     "shell.execute_reply": "2024-07-17T17:23:21.975758Z"
    },
    "papermill": {
     "duration": 178.766415,
     "end_time": "2024-07-17T17:23:21.979056",
     "exception": false,
     "start_time": "2024-07-17T17:20:23.212641",
     "status": "completed"
    },
    "tags": []
   },
   "outputs": [],
   "source": [
    "napi = numerapi.NumerAPI()\n",
    "# Notebook実行時に大量に出力がでてしまうため抑制\n",
    "with redirect_stderr(open(os.devnull, 'w')):\n",
    "    napi.download_dataset(\"v4.3/train_int8.parquet\", \"train.parquet\")\n",
    "    napi.download_dataset(\"v4.3/validation_int8.parquet\", \"valid.parquet\")\n",
    "    napi.download_dataset(\"v4.3/live_int8.parquet\", \"live.parquet\")\n",
    "    napi.download_dataset(\"v4.3/features.json\", \"features.json\")"
   ]
  },
  {
   "cell_type": "code",
   "execution_count": 4,
   "id": "6cfca1a4",
   "metadata": {
    "execution": {
     "iopub.execute_input": "2024-07-17T17:23:21.990971Z",
     "iopub.status.busy": "2024-07-17T17:23:21.990684Z",
     "iopub.status.idle": "2024-07-17T17:23:21.996371Z",
     "shell.execute_reply": "2024-07-17T17:23:21.995544Z"
    },
    "papermill": {
     "duration": 0.013499,
     "end_time": "2024-07-17T17:23:21.998166",
     "exception": false,
     "start_time": "2024-07-17T17:23:21.984667",
     "status": "completed"
    },
    "tags": []
   },
   "outputs": [],
   "source": [
    "# 学習周りのconfigファイル\n",
    "debug = False\n",
    "seed_all = 0\n",
    "params = {\n",
    "    'n_estimators': 5000,\n",
    "    'boosting_type': 'gbdt',\n",
    "    'learning_rate': 0.01,\n",
    "    'num_leaves': 32,\n",
    "    'metric': 'rmse',\n",
    "    'colsample_bytree': 0.1,\n",
    "    'subsample': 0.8,\n",
    "    'seed': seed_all,\n",
    "    'force_row_wise': True,\n",
    "    'device': 'gpu'\n",
    "}\n",
    "\n",
    "# targetの候補は features.jsonのtargetsの中に記載\n",
    "# feature_setの候補は feature.jsonのfeature_setsに記載\n",
    "if debug:\n",
    "    targets = [\"target\"]\n",
    "    feature_set_name = \"small\"\n",
    "else:\n",
    "    targets = [\"target\"]\n",
    "    feature_set_name = \"medium\""
   ]
  },
  {
   "cell_type": "code",
   "execution_count": 5,
   "id": "74dac32d",
   "metadata": {
    "execution": {
     "iopub.execute_input": "2024-07-17T17:23:22.009219Z",
     "iopub.status.busy": "2024-07-17T17:23:22.008951Z",
     "iopub.status.idle": "2024-07-17T17:23:22.027977Z",
     "shell.execute_reply": "2024-07-17T17:23:22.027053Z"
    },
    "papermill": {
     "duration": 0.026666,
     "end_time": "2024-07-17T17:23:22.029782",
     "exception": false,
     "start_time": "2024-07-17T17:23:22.003116",
     "status": "completed"
    },
    "tags": []
   },
   "outputs": [
    {
     "name": "stdout",
     "output_type": "stream",
     "text": [
      "small 42\n",
      "medium 705\n",
      "all 2376\n",
      "v2_equivalent_features 304\n",
      "v3_equivalent_features 1000\n",
      "fncv3_features 400\n",
      "intelligence 35\n",
      "charisma 290\n",
      "strength 135\n",
      "dexterity 51\n",
      "constitution 335\n",
      "wisdom 140\n",
      "agility 145\n",
      "serenity 95\n",
      "sunshine 325\n",
      "rain 666\n",
      "midnight 244\n",
      "---\n",
      "feature set: medium, num of features: 705\n",
      "---\n"
     ]
    }
   ],
   "source": [
    "# 特徴量の選択\n",
    "feature_metadata = json.load(open(\"features.json\"))\n",
    "for k, v in feature_metadata[\"feature_sets\"].items():\n",
    "    print(k, len(v))\n",
    "\n",
    "feature_cols = feature_metadata[\"feature_sets\"][feature_set_name]\n",
    "print(\"---\")\n",
    "print(f\"feature set: {feature_set_name}, num of features: {len(feature_cols)}\")\n",
    "print(\"---\")"
   ]
  },
  {
   "cell_type": "code",
   "execution_count": 6,
   "id": "91d0fe7c",
   "metadata": {
    "execution": {
     "iopub.execute_input": "2024-07-17T17:23:22.040873Z",
     "iopub.status.busy": "2024-07-17T17:23:22.040607Z",
     "iopub.status.idle": "2024-07-17T17:23:28.262800Z",
     "shell.execute_reply": "2024-07-17T17:23:28.261636Z"
    },
    "papermill": {
     "duration": 6.230143,
     "end_time": "2024-07-17T17:23:28.265006",
     "exception": false,
     "start_time": "2024-07-17T17:23:22.034863",
     "status": "completed"
    },
    "tags": []
   },
   "outputs": [
    {
     "name": "stdout",
     "output_type": "stream",
     "text": [
      "(2420521, 707)\n"
     ]
    }
   ],
   "source": [
    "# データの読み込み\n",
    "train = pd.read_parquet(\"train.parquet\", columns=feature_cols+[\"era\"]+targets).dropna()\n",
    "if debug:\n",
    "    train = train.head(1000)\n",
    "print(train.shape)"
   ]
  },
  {
   "cell_type": "code",
   "execution_count": 7,
   "id": "47ea0939",
   "metadata": {
    "execution": {
     "iopub.execute_input": "2024-07-17T17:23:28.277256Z",
     "iopub.status.busy": "2024-07-17T17:23:28.276951Z",
     "iopub.status.idle": "2024-07-17T17:23:28.526184Z",
     "shell.execute_reply": "2024-07-17T17:23:28.525304Z"
    },
    "papermill": {
     "duration": 0.257551,
     "end_time": "2024-07-17T17:23:28.528223",
     "exception": false,
     "start_time": "2024-07-17T17:23:28.270672",
     "status": "completed"
    },
    "tags": []
   },
   "outputs": [
    {
     "data": {
      "text/plain": [
       "era\n",
       "0001    2072\n",
       "0002    2260\n",
       "0003    2334\n",
       "0004    2399\n",
       "0005    2406\n",
       "        ... \n",
       "0570    4804\n",
       "0571    4811\n",
       "0572    4793\n",
       "0573    4793\n",
       "0574    4801\n",
       "Name: target, Length: 574, dtype: int64"
      ]
     },
     "execution_count": 7,
     "metadata": {},
     "output_type": "execute_result"
    }
   ],
   "source": [
    "train.groupby(\"era\")[\"target\"].count()"
   ]
  },
  {
   "cell_type": "code",
   "execution_count": 8,
   "id": "78f453a2",
   "metadata": {
    "execution": {
     "iopub.execute_input": "2024-07-17T17:23:28.540372Z",
     "iopub.status.busy": "2024-07-17T17:23:28.540056Z",
     "iopub.status.idle": "2024-07-17T17:33:25.758172Z",
     "shell.execute_reply": "2024-07-17T17:33:25.757167Z"
    },
    "papermill": {
     "duration": 597.226796,
     "end_time": "2024-07-17T17:33:25.760659",
     "exception": false,
     "start_time": "2024-07-17T17:23:28.533863",
     "status": "completed"
    },
    "tags": []
   },
   "outputs": [
    {
     "name": "stdout",
     "output_type": "stream",
     "text": [
      "-----\n",
      "Target: target, fold: 1\n",
      "[LightGBM] [Info] This is the GPU trainer!!\n",
      "[LightGBM] [Info] Total Bins 3525\n",
      "[LightGBM] [Info] Number of data points in the train set: 1613680, number of used features: 705\n",
      "[LightGBM] [Info] Using GPU Device: Tesla P100-PCIE-16GB, Vendor: NVIDIA Corporation\n",
      "[LightGBM] [Info] Compiling OpenCL Kernel with 16 bins...\n"
     ]
    },
    {
     "name": "stderr",
     "output_type": "stream",
     "text": [
      "1 warning generated.\n",
      "1 warning generated.\n",
      "1 warning generated.\n",
      "1 warning generated.\n",
      "1 warning generated.\n",
      "1 warning generated.\n",
      "1 warning generated.\n",
      "1 warning generated.\n",
      "1 warning generated.\n",
      "1 warning generated.\n",
      "1 warning generated.\n",
      "1 warning generated.\n",
      "1 warning generated.\n",
      "1 warning generated.\n",
      "1 warning generated.\n",
      "1 warning generated.\n",
      "1 warning generated.\n",
      "1 warning generated.\n",
      "1 warning generated.\n",
      "1 warning generated.\n",
      "1 warning generated.\n",
      "1 warning generated.\n",
      "1 warning generated.\n",
      "1 warning generated.\n",
      "1 warning generated.\n",
      "1 warning generated.\n",
      "1 warning generated.\n",
      "1 warning generated.\n",
      "1 warning generated.\n",
      "1 warning generated.\n",
      "1 warning generated.\n",
      "1 warning generated.\n",
      "1 warning generated.\n"
     ]
    },
    {
     "name": "stdout",
     "output_type": "stream",
     "text": [
      "[LightGBM] [Info] GPU programs have been built\n",
      "[LightGBM] [Info] Size of histogram bin entry: 8\n",
      "[LightGBM] [Info] 705 dense feature groups (547.86 MB) transferred to GPU in 1.032790 secs. 0 sparse feature groups\n",
      "[LightGBM] [Info] Start training from score 0.500004\n",
      "Training until validation scores don't improve for 100 rounds\n",
      "Early stopping, best iteration is:\n",
      "[3043]\tvalid_0's rmse: 0.222795\n",
      "-----\n",
      "Target: target, fold: 2\n",
      "[LightGBM] [Info] This is the GPU trainer!!\n",
      "[LightGBM] [Info] Total Bins 3525\n",
      "[LightGBM] [Info] Number of data points in the train set: 1613681, number of used features: 705\n",
      "[LightGBM] [Info] Using GPU Device: Tesla P100-PCIE-16GB, Vendor: NVIDIA Corporation\n",
      "[LightGBM] [Info] Compiling OpenCL Kernel with 16 bins...\n",
      "[LightGBM] [Info] GPU programs have been built\n",
      "[LightGBM] [Info] Size of histogram bin entry: 8\n",
      "[LightGBM] [Info] 705 dense feature groups (547.86 MB) transferred to GPU in 0.949018 secs. 0 sparse feature groups\n",
      "[LightGBM] [Info] Start training from score 0.500018\n",
      "Training until validation scores don't improve for 100 rounds\n",
      "Early stopping, best iteration is:\n",
      "[1504]\tvalid_0's rmse: 0.222908\n",
      "-----\n",
      "Target: target, fold: 3\n",
      "[LightGBM] [Info] This is the GPU trainer!!\n",
      "[LightGBM] [Info] Total Bins 3525\n",
      "[LightGBM] [Info] Number of data points in the train set: 1613681, number of used features: 705\n",
      "[LightGBM] [Info] Using GPU Device: Tesla P100-PCIE-16GB, Vendor: NVIDIA Corporation\n",
      "[LightGBM] [Info] Compiling OpenCL Kernel with 16 bins...\n",
      "[LightGBM] [Info] GPU programs have been built\n",
      "[LightGBM] [Info] Size of histogram bin entry: 8\n",
      "[LightGBM] [Info] 705 dense feature groups (547.86 MB) transferred to GPU in 0.976205 secs. 0 sparse feature groups\n",
      "[LightGBM] [Info] Start training from score 0.500022\n",
      "Training until validation scores don't improve for 100 rounds\n",
      "Early stopping, best iteration is:\n",
      "[1213]\tvalid_0's rmse: 0.222829\n"
     ]
    }
   ],
   "source": [
    "# 学習\n",
    "cv = KFold(n_splits=3)\n",
    "models = []\n",
    "for target_idx, target in enumerate(targets, start=1):\n",
    "    for fold, (trn_idx, val_idx) in enumerate(cv.split(train), start=1):\n",
    "        trn_x = train.iloc[trn_idx, :][feature_cols].values\n",
    "        trn_y = train.iloc[trn_idx, :][target].values\n",
    "        val_x = train.iloc[val_idx, :][feature_cols].values\n",
    "        val_y = train.iloc[val_idx, :][target].values\n",
    "\n",
    "        print(\"-----\")\n",
    "        print(f\"Target: {target}, fold: {fold}\")\n",
    "\n",
    "        model = lgb.LGBMRegressor(**params)\n",
    "        model.fit(\n",
    "            trn_x, trn_y,\n",
    "            eval_set=[(val_x, val_y)],\n",
    "            callbacks=[lgb.early_stopping(stopping_rounds=100, verbose=True)],\n",
    "        )\n",
    "        models.append(model)\n",
    "\n",
    "        model.booster_.save_model(f\"model.lgb.fold_{fold}.{target}.seed_{seed_all}.txt\")\n",
    "        pickle.dump(model, open(f\"model.lgb.fold_{fold}.{target}.seed_{seed_all}.pkl\", 'wb'))\n",
    "        del trn_x, trn_y, val_x, val_y; gc.collect()\n"
   ]
  },
  {
   "cell_type": "code",
   "execution_count": 9,
   "id": "1bdc2ef5",
   "metadata": {
    "execution": {
     "iopub.execute_input": "2024-07-17T17:33:25.778070Z",
     "iopub.status.busy": "2024-07-17T17:33:25.777779Z",
     "iopub.status.idle": "2024-07-17T17:33:25.947627Z",
     "shell.execute_reply": "2024-07-17T17:33:25.946713Z"
    },
    "papermill": {
     "duration": 0.180666,
     "end_time": "2024-07-17T17:33:25.949549",
     "exception": false,
     "start_time": "2024-07-17T17:33:25.768883",
     "status": "completed"
    },
    "tags": []
   },
   "outputs": [
    {
     "data": {
      "text/plain": [
       "0"
      ]
     },
     "execution_count": 9,
     "metadata": {},
     "output_type": "execute_result"
    }
   ],
   "source": [
    "del train; gc.collect()"
   ]
  },
  {
   "cell_type": "code",
   "execution_count": 10,
   "id": "65aa2186",
   "metadata": {
    "execution": {
     "iopub.execute_input": "2024-07-17T17:33:25.967440Z",
     "iopub.status.busy": "2024-07-17T17:33:25.967131Z",
     "iopub.status.idle": "2024-07-17T17:33:25.977481Z",
     "shell.execute_reply": "2024-07-17T17:33:25.976635Z"
    },
    "papermill": {
     "duration": 0.021286,
     "end_time": "2024-07-17T17:33:25.979277",
     "exception": false,
     "start_time": "2024-07-17T17:33:25.957991",
     "status": "completed"
    },
    "tags": []
   },
   "outputs": [],
   "source": [
    "def predict(live_features: pd.DataFrame) -> pd.DataFrame:\n",
    "    def neutralize(df, columns, neutralizers=[], proportion=1.0, normalize=True, era_col=\"era\"):\n",
    "        unique_eras = df[era_col].unique()\n",
    "        computed = []\n",
    "        for u in unique_eras:\n",
    "            df_era = df[df[era_col] == u]\n",
    "            scores = df_era[columns].values\n",
    "            if normalize:\n",
    "                scores2 = []\n",
    "                for x in scores.T:\n",
    "                    x = (st.rankdata(x, method='ordinal') - .5) / len(x)\n",
    "                    x = st.norm.ppf(x)\n",
    "                    scores2.append(x)\n",
    "                scores = np.array(scores2).T\n",
    "            exposures = df_era[neutralizers].values\n",
    "\n",
    "            scores -= proportion * exposures.dot(\n",
    "                np.linalg.pinv(exposures.astype(np.float32)).dot(scores.astype(np.float32)))\n",
    "            scores /= scores.std(ddof=0)\n",
    "            computed.append(scores)\n",
    "        return pd.DataFrame(np.concatenate(computed),\n",
    "                            columns=columns,\n",
    "                            index=df.index)\n",
    "    \n",
    "    # main:    \n",
    "    preds_live = np.zeros(len(live_features))\n",
    "    for model in models:\n",
    "        preds_live += model.predict(live_features[feature_cols]) / len(models)\n",
    "    live_features[\"prediction\"] = preds_live\n",
    "    \n",
    "    # Feature Neutralization\n",
    "    # Ref: https://qiita.com/NT1123/items/6c0123e960ab43148eb1\n",
    "    live_predictions = neutralize(\n",
    "        live_features,\n",
    "        columns=[\"prediction\"], \n",
    "        neutralizers=feature_cols, \n",
    "        proportion=1.0,\n",
    "        normalize=True,\n",
    "        era_col='era'\n",
    "    ).rank(pct=True, method=\"first\")\n",
    "    return live_predictions"
   ]
  },
  {
   "cell_type": "code",
   "execution_count": 11,
   "id": "254fbc27",
   "metadata": {
    "execution": {
     "iopub.execute_input": "2024-07-17T17:33:25.996389Z",
     "iopub.status.busy": "2024-07-17T17:33:25.996115Z",
     "iopub.status.idle": "2024-07-17T17:33:27.686172Z",
     "shell.execute_reply": "2024-07-17T17:33:27.684317Z"
    },
    "papermill": {
     "duration": 1.702632,
     "end_time": "2024-07-17T17:33:27.689905",
     "exception": false,
     "start_time": "2024-07-17T17:33:25.987273",
     "status": "completed"
    },
    "tags": []
   },
   "outputs": [],
   "source": [
    "models = []\n",
    "for path in glob.glob(f\"model.*.txt\"):\n",
    "    models.append(lgb.Booster(model_file=path))\n",
    "\n",
    "# Live dataでテストを行う\n",
    "live = pd.read_parquet(\"live.parquet\")\n",
    "live_sub = predict(live)"
   ]
  },
  {
   "cell_type": "code",
   "execution_count": 12,
   "id": "b5e347de",
   "metadata": {
    "execution": {
     "iopub.execute_input": "2024-07-17T17:33:27.726015Z",
     "iopub.status.busy": "2024-07-17T17:33:27.725520Z",
     "iopub.status.idle": "2024-07-17T17:33:28.274833Z",
     "shell.execute_reply": "2024-07-17T17:33:28.273764Z"
    },
    "papermill": {
     "duration": 0.569782,
     "end_time": "2024-07-17T17:33:28.277213",
     "exception": false,
     "start_time": "2024-07-17T17:33:27.707431",
     "status": "completed"
    },
    "tags": []
   },
   "outputs": [],
   "source": [
    "# 予測する関数をpredict.pklとして保存（このファイルをNumeraiに提出してください）\n",
    "p = cloudpickle.dumps(predict)\n",
    "with open(\"predict.pkl\", \"wb\") as f:\n",
    "    f.write(p)"
   ]
  },
  {
   "cell_type": "code",
   "execution_count": 13,
   "id": "414b18da",
   "metadata": {
    "execution": {
     "iopub.execute_input": "2024-07-17T17:33:28.295302Z",
     "iopub.status.busy": "2024-07-17T17:33:28.294990Z",
     "iopub.status.idle": "2024-07-17T17:52:26.265270Z",
     "shell.execute_reply": "2024-07-17T17:52:26.264305Z"
    },
    "papermill": {
     "duration": 1137.982078,
     "end_time": "2024-07-17T17:52:26.267857",
     "exception": false,
     "start_time": "2024-07-17T17:33:28.285779",
     "status": "completed"
    },
    "tags": []
   },
   "outputs": [
    {
     "data": {
      "application/vnd.jupyter.widget-view+json": {
       "model_id": "849b36d3c0524375ae792c8763a654a7",
       "version_major": 2,
       "version_minor": 0
      },
      "text/plain": [
       "  0%|          | 0/545 [00:00<?, ?it/s]"
      ]
     },
     "metadata": {},
     "output_type": "display_data"
    },
    {
     "name": "stdout",
     "output_type": "stream",
     "text": [
      "Mean: 0.0174, Sharpe: 0.9028\n"
     ]
    }
   ],
   "source": [
    "valid = pd.read_parquet(\"valid.parquet\", columns=feature_cols+[\"era\"]+targets).dropna()\n",
    "valid_sub = predict(valid)\n",
    "\n",
    "valid_sub[\"era\"] = valid[\"era\"]\n",
    "valid_sub[\"target\"] = valid[\"target\"]\n",
    "del valid; gc.collect()\n",
    "\n",
    "spr_list = []\n",
    "for era in tqdm(sorted(valid_sub[\"era\"].unique())):\n",
    "    valid_sub_ext = valid_sub.query(\"era == @era\")\n",
    "    spr = st.spearmanr(valid_sub_ext[\"prediction\"], valid_sub_ext[\"target\"])[0]\n",
    "    spr_list.append(spr)\n",
    "\n",
    "mean = np.mean(spr_list)\n",
    "sharpe_ratio = np.mean(spr_list) / np.std(spr_list)\n",
    "print(f\"Mean: {round(mean, 4)}, Sharpe: {round(sharpe_ratio, 4)}\")"
   ]
  },
  {
   "cell_type": "code",
   "execution_count": 14,
   "id": "77c92c81",
   "metadata": {
    "execution": {
     "iopub.execute_input": "2024-07-17T17:52:26.286604Z",
     "iopub.status.busy": "2024-07-17T17:52:26.286265Z",
     "iopub.status.idle": "2024-07-17T17:52:29.763476Z",
     "shell.execute_reply": "2024-07-17T17:52:29.762510Z"
    },
    "papermill": {
     "duration": 3.488664,
     "end_time": "2024-07-17T17:52:29.765570",
     "exception": false,
     "start_time": "2024-07-17T17:52:26.276906",
     "status": "completed"
    },
    "tags": []
   },
   "outputs": [
    {
     "name": "stdout",
     "output_type": "stream",
     "text": [
      "Mean: 0.0174, Sharpe: 0.9028\n"
     ]
    },
    {
     "data": {
      "text/plain": [
       "[<matplotlib.lines.Line2D at 0x7bc42417a6b0>]"
      ]
     },
     "execution_count": 14,
     "metadata": {},
     "output_type": "execute_result"
    },
    {
     "data": {
      "image/png": "[encoded data removed]",
      "text/plain": [
       "<Figure size 640x480 with 1 Axes>"
      ]
     },
     "metadata": {},
     "output_type": "display_data"
    }
   ],
   "source": [
    "print(f\"Mean: {round(mean, 4)}, Sharpe: {round(sharpe_ratio, 4)}\")\n",
    "plt.plot(sorted(valid_sub[\"era\"].unique()), spr_list)"
   ]
  },
  {
   "cell_type": "code",
   "execution_count": 15,
   "id": "543d6576",
   "metadata": {
    "execution": {
     "iopub.execute_input": "2024-07-17T17:52:29.785838Z",
     "iopub.status.busy": "2024-07-17T17:52:29.785531Z",
     "iopub.status.idle": "2024-07-17T17:52:31.139215Z",
     "shell.execute_reply": "2024-07-17T17:52:31.137912Z"
    },
    "papermill": {
     "duration": 1.36631,
     "end_time": "2024-07-17T17:52:31.141638",
     "exception": false,
     "start_time": "2024-07-17T17:52:29.775328",
     "status": "completed"
    },
    "tags": []
   },
   "outputs": [],
   "source": [
    "!rm *.parquet"
   ]
  }
 ],
 "metadata": {
  "kaggle": {
   "accelerator": "gpu",
   "dataSources": [],
   "isGpuEnabled": true,
   "isInternetEnabled": true,
   "language": "python",
   "sourceType": "notebook"
  },
  "kernelspec": {
   "display_name": "Python 3",
   "language": "python",
   "name": "python3"
  },
  "language_info": {
   "codemirror_mode": {
    "name": "ipython",
    "version": 3
   },
   "file_extension": ".py",
   "mimetype": "text/x-python",
   "name": "python",
   "nbconvert_exporter": "python",
   "pygments_lexer": "ipython3",
   "version": "3.10.13"
  },
  "papermill": {
   "default_parameters": {},
   "duration": 1954.591647,
   "end_time": "2024-07-17T17:52:32.477154",
   "environment_variables": {},
   "exception": null,
   "input_path": "__notebook__.ipynb",
   "output_path": "__notebook__.ipynb",
   "parameters": {},
   "start_time": "2024-07-17T17:19:57.885507",
   "version": "2.5.0"
  },
  "widgets": {
   "application/vnd.jupyter.widget-state+json": {
    "state": {
     "8050a5c300fc4dd0868e2621d56a7db4": {
      "model_module": "@jupyter-widgets/controls",
      "model_module_version": "1.5.0",
      "model_name": "HTMLModel",
      "state": {
       "_dom_classes": [],
       "_model_module": "@jupyter-widgets/controls",
       "_model_module_version": "1.5.0",
       "_model_name": "HTMLModel",
       "_view_count": null,
       "_view_module": "@jupyter-widgets/controls",
       "_view_module_version": "1.5.0",
       "_view_name": "HTMLView",
       "description": "",
       "description_tooltip": null,
       "layout": "IPY_MODEL_9780ee67dd734e7898d87deab2536843",
       "placeholder": "​",
       "style": "IPY_MODEL_fa966ec4b92e4e519d7dd32222cb7bb3",
       "value": " 545/545 [01:40&lt;00:00,  5.42it/s]"
      }
     },
     "849b36d3c0524375ae792c8763a654a7": {
      "model_module": "@jupyter-widgets/controls",
      "model_module_version": "1.5.0",
      "model_name": "HBoxModel",
      "state": {
       "_dom_classes": [],
       "_model_module": "@jupyter-widgets/controls",
       "_model_module_version": "1.5.0",
       "_model_name": "HBoxModel",
       "_view_count": null,
       "_view_module": "@jupyter-widgets/controls",
       "_view_module_version": "1.5.0",
       "_view_name": "HBoxView",
       "box_style": "",
       "children": [
        "IPY_MODEL_f11c26cd0b624c348400c06e31660942",
        "IPY_MODEL_c0d5e4e6cb71423b83026f2cf86b7e15",
        "IPY_MODEL_8050a5c300fc4dd0868e2621d56a7db4"
       ],
       "layout": "IPY_MODEL_d41168f3c23e4f8ab8924e7e76e3f117"
      }
     },
     "9780ee67dd734e7898d87deab2536843": {
      "model_module": "@jupyter-widgets/base",
      "model_module_version": "1.2.0",
      "model_name": "LayoutModel",
      "state": {
       "_model_module": "@jupyter-widgets/base",
       "_model_module_version": "1.2.0",
       "_model_name": "LayoutModel",
       "_view_count": null,
       "_view_module": "@jupyter-widgets/base",
       "_view_module_version": "1.2.0",
       "_view_name": "LayoutView",
       "align_content": null,
       "align_items": null,
       "align_self": null,
       "border": null,
       "bottom": null,
       "display": null,
       "flex": null,
       "flex_flow": null,
       "grid_area": null,
       "grid_auto_columns": null,
       "grid_auto_flow": null,
       "grid_auto_rows": null,
       "grid_column": null,
       "grid_gap": null,
       "grid_row": null,
       "grid_template_areas": null,
       "grid_template_columns": null,
       "grid_template_rows": null,
       "height": null,
       "justify_content": null,
       "justify_items": null,
       "left": null,
       "margin": null,
       "max_height": null,
       "max_width": null,
       "min_height": null,
       "min_width": null,
       "object_fit": null,
       "object_position": null,
       "order": null,
       "overflow": null,
       "overflow_x": null,
       "overflow_y": null,
       "padding": null,
       "right": null,
       "top": null,
       "visibility": null,
       "width": null
      }
     },
     "b8bd0b73f7eb4e08935e7a9e2973b6ef": {
      "model_module": "@jupyter-widgets/controls",
      "model_module_version": "1.5.0",
      "model_name": "DescriptionStyleModel",
      "state": {
       "_model_module": "@jupyter-widgets/controls",
       "_model_module_version": "1.5.0",
       "_model_name": "DescriptionStyleModel",
       "_view_count": null,
       "_view_module": "@jupyter-widgets/base",
       "_view_module_version": "1.2.0",
       "_view_name": "StyleView",
       "description_width": ""
      }
     },
     "c0d5e4e6cb71423b83026f2cf86b7e15": {
      "model_module": "@jupyter-widgets/controls",
      "model_module_version": "1.5.0",
      "model_name": "FloatProgressModel",
      "state": {
       "_dom_classes": [],
       "_model_module": "@jupyter-widgets/controls",
       "_model_module_version": "1.5.0",
       "_model_name": "FloatProgressModel",
       "_view_count": null,
       "_view_module": "@jupyter-widgets/controls",
       "_view_module_version": "1.5.0",
       "_view_name": "ProgressView",
       "bar_style": "success",
       "description": "",
       "description_tooltip": null,
       "layout": "IPY_MODEL_f3cd6bca2941453bbcfbe53a02662ebf",
       "max": 545.0,
       "min": 0.0,
       "orientation": "horizontal",
       "style": "IPY_MODEL_d6aa235b207b48b896a8f18ffa87407c",
       "value": 545.0
      }
     },
     "d41168f3c23e4f8ab8924e7e76e3f117": {
      "model_module": "@jupyter-widgets/base",
      "model_module_version": "1.2.0",
      "model_name": "LayoutModel",
      "state": {
       "_model_module": "@jupyter-widgets/base",
       "_model_module_version": "1.2.0",
       "_model_name": "LayoutModel",
       "_view_count": null,
       "_view_module": "@jupyter-widgets/base",
       "_view_module_version": "1.2.0",
       "_view_name": "LayoutView",
       "align_content": null,
       "align_items": null,
       "align_self": null,
       "border": null,
       "bottom": null,
       "display": null,
       "flex": null,
       "flex_flow": null,
       "grid_area": null,
       "grid_auto_columns": null,
       "grid_auto_flow": null,
       "grid_auto_rows": null,
       "grid_column": null,
       "grid_gap": null,
       "grid_row": null,
       "grid_template_areas": null,
       "grid_template_columns": null,
       "grid_template_rows": null,
       "height": null,
       "justify_content": null,
       "justify_items": null,
       "left": null,
       "margin": null,
       "max_height": null,
       "max_width": null,
       "min_height": null,
       "min_width": null,
       "object_fit": null,
       "object_position": null,
       "order": null,
       "overflow": null,
       "overflow_x": null,
       "overflow_y": null,
       "padding": null,
       "right": null,
       "top": null,
       "visibility": null,
       "width": null
      }
     },
     "d6aa235b207b48b896a8f18ffa87407c": {
      "model_module": "@jupyter-widgets/controls",
      "model_module_version": "1.5.0",
      "model_name": "ProgressStyleModel",
      "state": {
       "_model_module": "@jupyter-widgets/controls",
       "_model_module_version": "1.5.0",
       "_model_name": "ProgressStyleModel",
       "_view_count": null,
       "_view_module": "@jupyter-widgets/base",
       "_view_module_version": "1.2.0",
       "_view_name": "StyleView",
       "bar_color": null,
       "description_width": ""
      }
     },
     "e318f5777c15489493b905983601aa9b": {
      "model_module": "@jupyter-widgets/base",
      "model_module_version": "1.2.0",
      "model_name": "LayoutModel",
      "state": {
       "_model_module": "@jupyter-widgets/base",
       "_model_module_version": "1.2.0",
       "_model_name": "LayoutModel",
       "_view_count": null,
       "_view_module": "@jupyter-widgets/base",
       "_view_module_version": "1.2.0",
       "_view_name": "LayoutView",
       "align_content": null,
       "align_items": null,
       "align_self": null,
       "border": null,
       "bottom": null,
       "display": null,
       "flex": null,
       "flex_flow": null,
       "grid_area": null,
       "grid_auto_columns": null,
       "grid_auto_flow": null,
       "grid_auto_rows": null,
       "grid_column": null,
       "grid_gap": null,
       "grid_row": null,
       "grid_template_areas": null,
       "grid_template_columns": null,
       "grid_template_rows": null,
       "height": null,
       "justify_content": null,
       "justify_items": null,
       "left": null,
       "margin": null,
       "max_height": null,
       "max_width": null,
       "min_height": null,
       "min_width": null,
       "object_fit": null,
       "object_position": null,
       "order": null,
       "overflow": null,
       "overflow_x": null,
       "overflow_y": null,
       "padding": null,
       "right": null,
       "top": null,
       "visibility": null,
       "width": null
      }
     },
     "f11c26cd0b624c348400c06e31660942": {
      "model_module": "@jupyter-widgets/controls",
      "model_module_version": "1.5.0",
      "model_name": "HTMLModel",
      "state": {
       "_dom_classes": [],
       "_model_module": "@jupyter-widgets/controls",
       "_model_module_version": "1.5.0",
       "_model_name": "HTMLModel",
       "_view_count": null,
       "_view_module": "@jupyter-widgets/controls",
       "_view_module_version": "1.5.0",
       "_view_name": "HTMLView",
       "description": "",
       "description_tooltip": null,
       "layout": "IPY_MODEL_e318f5777c15489493b905983601aa9b",
       "placeholder": "​",
       "style": "IPY_MODEL_b8bd0b73f7eb4e08935e7a9e2973b6ef",
       "value": "100%"
      }
     },
     "f3cd6bca2941453bbcfbe53a02662ebf": {
      "model_module": "@jupyter-widgets/base",
      "model_module_version": "1.2.0",
      "model_name": "LayoutModel",
      "state": {
       "_model_module": "@jupyter-widgets/base",
       "_model_module_version": "1.2.0",
       "_model_name": "LayoutModel",
       "_view_count": null,
       "_view_module": "@jupyter-widgets/base",
       "_view_module_version": "1.2.0",
       "_view_name": "LayoutView",
       "align_content": null,
       "align_items": null,
       "align_self": null,
       "border": null,
       "bottom": null,
       "display": null,
       "flex": null,
       "flex_flow": null,
       "grid_area": null,
       "grid_auto_columns": null,
       "grid_auto_flow": null,
       "grid_auto_rows": null,
       "grid_column": null,
       "grid_gap": null,
       "grid_row": null,
       "grid_template_areas": null,
       "grid_template_columns": null,
       "grid_template_rows": null,
       "height": null,
       "justify_content": null,
       "justify_items": null,
       "left": null,
       "margin": null,
       "max_height": null,
       "max_width": null,
       "min_height": null,
       "min_width": null,
       "object_fit": null,
       "object_position": null,
       "order": null,
       "overflow": null,
       "overflow_x": null,
       "overflow_y": null,
       "padding": null,
       "right": null,
       "top": null,
       "visibility": null,
       "width": null
      }
     },
     "fa966ec4b92e4e519d7dd32222cb7bb3": {
      "model_module": "@jupyter-widgets/controls",
      "model_module_version": "1.5.0",
      "model_name": "DescriptionStyleModel",
      "state": {
       "_model_module": "@jupyter-widgets/controls",
       "_model_module_version": "1.5.0",
       "_model_name": "DescriptionStyleModel",
       "_view_count": null,
       "_view_module": "@jupyter-widgets/base",
       "_view_module_version": "1.2.0",
       "_view_name": "StyleView",
       "description_width": ""
      }
     }
    },
    "version_major": 2,
    "version_minor": 0
   }
  }
 },
 "nbformat": 4,
 "nbformat_minor": 5
}
